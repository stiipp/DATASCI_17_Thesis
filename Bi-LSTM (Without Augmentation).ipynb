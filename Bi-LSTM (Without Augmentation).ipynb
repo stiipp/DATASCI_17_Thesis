{
 "cells": [
  {
   "cell_type": "markdown",
   "id": "76e565d4",
   "metadata": {},
   "source": [
    "# Data Pre-Processing"
   ]
  },
  {
   "cell_type": "markdown",
   "id": "b4c970c6",
   "metadata": {},
   "source": [
    "## Data Loading\n",
    "- **File Reading:** Load signal files from the specified directories for healthy and patient groups\n",
    "- **Label Assignment:** Assign a numerical label to each file based on its category (healthy or patient) for supervised learning."
   ]
  },
  {
   "cell_type": "code",
   "execution_count": 37,
   "id": "34f15cb1",
   "metadata": {},
   "outputs": [],
   "source": [
    "# Cell 1: Imports and Setup (Updated channel names)\n",
    "import os\n",
    "import numpy as np\n",
    "import pandas as pd\n",
    "from tqdm import tqdm\n",
    "import re\n",
    "\n",
    "pd.set_option('display.max_columns', None)\n",
    "\n",
    "# Base paths configuration\n",
    "base_paths = {\n",
    "    \"healthy\": r\"C:\\NewHandPD\\Healthy Signals\\Signal\",\n",
    "    \"patient\": r\"C:\\NewHandPD\\Patient Signals\\Signal\"\n",
    "}\n",
    "\n",
    "category_labels = {\n",
    "    \"healthy\": 0,\n",
    "    \"patient\": 1\n",
    "}\n",
    "\n",
    "# Updated channel names (excluding Microphone)\n",
    "channel_names = [\n",
    "    \"Fingergrip\", \"Axial_Pressure\",\n",
    "    \"Tilt_X\", \"Tilt_Y\", \"Tilt_Z\"\n",
    "]"
   ]
  },
  {
   "cell_type": "markdown",
   "id": "9f1f99b4",
   "metadata": {},
   "source": [
    "## Data Parsing\n",
    "- **Metadata Extraction:** Extract relevant metadata from each file, such as subject information and recording parameters, to enrich the dataset.\n",
    "- **Signal Processing:** Parse and structure the signal data, dropping unnecessary channels (e.g., Microphone) and keeping only the relevant sensor channels."
   ]
  },
  {
   "cell_type": "code",
   "execution_count": 38,
   "id": "660a4a02-fb71-4284-8fa2-d894b500572a",
   "metadata": {},
   "outputs": [],
   "source": [
    "# Cell 2: Enhanced File Parsing Function with Metadata Extraction\n",
    "def parse_signal_file(file_path, label):\n",
    "    with open(file_path, 'r', encoding='utf-8') as f:\n",
    "        lines = f.readlines()\n",
    "\n",
    "    meta_info = {}\n",
    "    signal_start_idx = 0\n",
    "    in_meta_section = False\n",
    "\n",
    "    # Extract metadata\n",
    "    for i, line in enumerate(lines):\n",
    "        line = line.strip()\n",
    "        \n",
    "        if line == \"#<meta>\":\n",
    "            in_meta_section = True\n",
    "            continue\n",
    "        elif line == \"#</meta>\":\n",
    "            in_meta_section = False\n",
    "            signal_start_idx = i + 1\n",
    "            break\n",
    "            \n",
    "        if in_meta_section and line.startswith(\"#<\") and line.endswith(\">\"):\n",
    "            # Extract key-value pairs from metadata\n",
    "            try:\n",
    "                key = line[2:line.find(\">\")]  # Get text between #< and >\n",
    "                value = line[line.find(\">\")+1:-1]  # Get text between > and <\n",
    "                \n",
    "                # Convert numeric values to appropriate type\n",
    "                if value.isdigit():\n",
    "                    value = int(value)\n",
    "                elif value.replace('.', '', 1).isdigit():\n",
    "                    value = float(value)\n",
    "                elif value.lower() == 'true':\n",
    "                    value = True\n",
    "                elif value.lower() == 'false':\n",
    "                    value = False\n",
    "                elif value == '':\n",
    "                    value = None\n",
    "                    \n",
    "                meta_info[key] = value\n",
    "            except:\n",
    "                continue\n",
    "\n",
    "    # Load signal data and drop first channel (Microphone)\n",
    "    signal_lines = lines[signal_start_idx:]\n",
    "    signal_array = np.loadtxt(signal_lines, delimiter=\"\\t\")\n",
    "    \n",
    "    # Keep only channels 1-5 (drop channel 0 - Microphone)\n",
    "    if signal_array.ndim == 1:\n",
    "        signal_array = signal_array[1:6].reshape(1, -1)  # For single-row signals\n",
    "    else:\n",
    "        signal_array = signal_array[:, 1:6]  # For multi-row signals\n",
    "\n",
    "    return signal_array, label, meta_info"
   ]
  },
  {
   "cell_type": "code",
   "execution_count": 39,
   "id": "460ddd17-8b78-4fd8-8b78-92829c0bf3fe",
   "metadata": {},
   "outputs": [
    {
     "name": "stdout",
     "output_type": "stream",
     "text": [
      "Processing healthy files...\n"
     ]
    },
    {
     "name": "stderr",
     "output_type": "stream",
     "text": [
      "100%|██████████| 421/421 [00:06<00:00, 61.19it/s]\n"
     ]
    },
    {
     "name": "stdout",
     "output_type": "stream",
     "text": [
      "Processing patient files...\n"
     ]
    },
    {
     "name": "stderr",
     "output_type": "stream",
     "text": [
      "100%|██████████| 373/373 [00:09<00:00, 37.73it/s]\n"
     ]
    }
   ],
   "source": [
    "# Cell 3: Main Processing (Now includes metadata in records)\n",
    "all_records = []\n",
    "sigMea_records = []\n",
    "sigSp_records = []\n",
    "\n",
    "for category, folder_path in base_paths.items():\n",
    "    label = category_labels[category]\n",
    "    print(f\"Processing {category} files...\")\n",
    "\n",
    "    for file_name in tqdm(os.listdir(folder_path)):\n",
    "        if not file_name.endswith(\".txt\"):\n",
    "            continue\n",
    "            \n",
    "        file_path = os.path.join(folder_path, file_name)\n",
    "        try:\n",
    "            signal_data, label_val, meta_info = parse_signal_file(file_path, label)\n",
    "\n",
    "            record = {\n",
    "                \"file_name\": file_name,\n",
    "                \"label\": label_val,\n",
    "                \"signal\": signal_data,\n",
    "                **meta_info  # Unpack all metadata into the record\n",
    "            }\n",
    "\n",
    "            all_records.append(record)\n",
    "            \n",
    "            # Filter for specific file prefixes\n",
    "            if file_name.startswith(\"sigMea\"):\n",
    "                sigMea_records.append(record)\n",
    "            elif file_name.startswith(\"sigSp\"):\n",
    "                sigSp_records.append(record)\n",
    "\n",
    "        except Exception as e:\n",
    "            print(f\"Error parsing {file_name}: {e}\")"
   ]
  },
  {
   "cell_type": "code",
   "execution_count": 40,
   "id": "531aa740-e3ed-49fb-94b5-6215dcb6fdf0",
   "metadata": {},
   "outputs": [
    {
     "name": "stdout",
     "output_type": "stream",
     "text": [
      "\n",
      "Summary:\n",
      "Total files processed: 792\n",
      "Files starting with 'sigMea': 264\n",
      "Files starting with 'sigSp': 264\n",
      "\n",
      "Metadata columns found:\n",
      "['Person_ID_Number', 'Age', 'Gender', 'Writing_Hand', 'Weight', 'Height', 'Smoker', 'Notice', 'Object', 'Object_Index', 'Pen', 'Samplerate', 'Time', 'Date', 'Comment', 'Surename', 'Forename']\n"
     ]
    }
   ],
   "source": [
    "# Cell 4: Create DataFrames (Now includes metadata columns)\n",
    "df_all = pd.DataFrame(all_records)\n",
    "df_sigMea = pd.DataFrame(sigMea_records)\n",
    "df_sigSp = pd.DataFrame(sigSp_records)\n",
    "\n",
    "print(f\"\\nSummary:\")\n",
    "print(f\"Total files processed: {len(all_records)}\")\n",
    "print(f\"Files starting with 'sigMea': {len(sigMea_records)}\")\n",
    "print(f\"Files starting with 'sigSp': {len(sigSp_records)}\")\n",
    "\n",
    "# Show metadata columns we've extracted\n",
    "print(\"\\nMetadata columns found:\")\n",
    "print([col for col in df_all.columns if col not in ['file_name', 'label', 'signal']])"
   ]
  },
  {
   "cell_type": "code",
   "execution_count": 41,
   "id": "09e7bf1f",
   "metadata": {},
   "outputs": [],
   "source": [
    "# --- Cell 4.1: Keep only the core metadata columns ---\n",
    "core_cols = ['file_name', 'label', 'signal', 'Person_ID_Number', 'Age', 'Gender', 'Writing_Hand']\n",
    "\n",
    "# Check which columns exist before selecting to avoid errors if some metadata is missing\n",
    "def select_existing_cols(df, cols):\n",
    "    existing_cols = [col for col in cols if col in df.columns]\n",
    "    return df[existing_cols]\n",
    "\n",
    "df_all = select_existing_cols(df_all, core_cols)\n",
    "df_sigMea = select_existing_cols(df_sigMea, core_cols)\n",
    "df_sigSp = select_existing_cols(df_sigSp, core_cols)"
   ]
  },
  {
   "cell_type": "markdown",
   "id": "976c85e1",
   "metadata": {},
   "source": [
    "## Data Cleaning\n",
    "- **Missing and Outlier Data Handling:** Remove records with missing values or impossible signal values (e.g., negative physical measurements) to ensure data quality.\n",
    "- **Signal Normalization:** Apply min-max scaling to each signal channel so all features are on a comparable scale, improving model performance and interpretability."
   ]
  },
  {
   "cell_type": "code",
   "execution_count": 42,
   "id": "40c60beb",
   "metadata": {},
   "outputs": [
    {
     "name": "stdout",
     "output_type": "stream",
     "text": [
      "Data cleaning complete:\n",
      "df_all_clean shape: (789, 7)\n",
      "df_sigMea_clean shape: (262, 7)\n",
      "df_sigSp_clean shape: (263, 7)\n",
      "\n",
      "Missing values in df_all_clean: 0\n",
      "Missing values in df_sigMea_clean: 0\n",
      "Missing values in df_sigSp_clean: 0\n",
      "\n",
      "Columns with missing values in df_all_clean:\n",
      "Series([], dtype: int64)\n",
      "\n",
      "Columns with missing values in df_sigMea_clean:\n",
      "Series([], dtype: int64)\n",
      "\n",
      "Columns with missing values in df_sigSp_clean:\n",
      "Series([], dtype: int64)\n"
     ]
    }
   ],
   "source": [
    "# Cell 5: Data Cleaning for DataFrames\n",
    "# Remove rows with missing or NaN values in key columns\n",
    "df_all_clean = df_all.dropna(subset=['signal', 'label', 'file_name'])\n",
    "df_sigMea_clean = df_sigMea.dropna(subset=['signal', 'label', 'file_name'])\n",
    "df_sigSp_clean = df_sigSp.dropna(subset=['signal', 'label', 'file_name'])\n",
    "\n",
    "# Remove rows with impossible values (e.g., negative values for physical signals)\n",
    "def remove_impossible_values(df):\n",
    "    # Example: Remove rows where any signal value is negative\n",
    "    mask = df['signal'].apply(lambda x: np.all(x >= 0))\n",
    "    return df[mask]\n",
    "\n",
    "df_all_clean = remove_impossible_values(df_all_clean)\n",
    "df_sigMea_clean = remove_impossible_values(df_sigMea_clean)\n",
    "df_sigSp_clean = remove_impossible_values(df_sigSp_clean)\n",
    "\n",
    "# Normalize signal data (min-max scaling per sample)\n",
    "def normalize_signal(signal):\n",
    "    min_val = np.min(signal, axis=0)\n",
    "    max_val = np.max(signal, axis=0)\n",
    "    # Avoid division by zero\n",
    "    denom = np.where(max_val - min_val == 0, 1, max_val - min_val)\n",
    "    return (signal - min_val) / denom\n",
    "\n",
    "df_all_clean['signal'] = df_all_clean['signal'].apply(normalize_signal)\n",
    "df_sigMea_clean['signal'] = df_sigMea_clean['signal'].apply(normalize_signal)\n",
    "df_sigSp_clean['signal'] = df_sigSp_clean['signal'].apply(normalize_signal)\n",
    "\n",
    "print('Data cleaning complete:')\n",
    "print(f'df_all_clean shape: {df_all_clean.shape}')\n",
    "print(f'df_sigMea_clean shape: {df_sigMea_clean.shape}')\n",
    "print(f'df_sigSp_clean shape: {df_sigSp_clean.shape}')\n",
    "\n",
    "# Check for missing values in each DataFrame\n",
    "print(\"\\nMissing values in df_all_clean:\", df_all_clean.isna().sum().sum())\n",
    "print(\"Missing values in df_sigMea_clean:\", df_sigMea_clean.isna().sum().sum())\n",
    "print(\"Missing values in df_sigSp_clean:\", df_sigSp_clean.isna().sum().sum())\n",
    "\n",
    "# To see which columns have missing values:\n",
    "print(\"\\nColumns with missing values in df_all_clean:\")\n",
    "print(df_all_clean.isna().sum()[df_all_clean.isna().sum() > 0])\n",
    "\n",
    "print(\"\\nColumns with missing values in df_sigMea_clean:\")\n",
    "print(df_sigMea_clean.isna().sum()[df_sigMea_clean.isna().sum() > 0])\n",
    "\n",
    "print(\"\\nColumns with missing values in df_sigSp_clean:\")\n",
    "print(df_sigSp_clean.isna().sum()[df_sigSp_clean.isna().sum() > 0])"
   ]
  },
  {
   "cell_type": "markdown",
   "id": "3194d81d",
   "metadata": {},
   "source": [
    "# Data Splitting\n",
    "- **Person-Based Splitting:** Divide the dataset into training, validation, and test sets based on unique person identifiers to prevent data leakage and ensure fair evaluation.\n",
    "- **Randomization:** Shuffle person IDs before splitting to ensure unbiased distribution across splits.\n",
    "- **Split Proportions:** Assign approximately 70% of persons to training, 15% to validation, and 15% to test sets for balanced model development and assessment.\n",
    "- **Leakage Check:** Verify that no person appears in more than one split to maintain strict separation between training and evaluation data.\""
   ]
  },
  {
   "cell_type": "code",
   "execution_count": 43,
   "id": "41f1769b-e204-4cad-af58-fbe7e317cb31",
   "metadata": {},
   "outputs": [
    {
     "name": "stdout",
     "output_type": "stream",
     "text": [
      "Combined DataFrame shape: (525, 7)\n"
     ]
    }
   ],
   "source": [
    "# --- Cell 6: Combine sigMea and sigSp DataFrames ---\n",
    "# Use the CLEANED dataframes from the previous cell, not the original ones.\n",
    "df_combined = pd.concat([df_sigMea_clean, df_sigSp_clean], ignore_index=True)\n",
    "print(f\"Combined DataFrame shape: {df_combined.shape}\")"
   ]
  },
  {
   "cell_type": "code",
   "execution_count": 44,
   "id": "a281ba84",
   "metadata": {},
   "outputs": [
    {
     "name": "stdout",
     "output_type": "stream",
     "text": [
      "\n",
      "Data Split Summary:\n",
      "Total number of unique persons: 61\n",
      "Training set: 42 persons, 365 samples\n",
      "Validation set: 9 persons, 80 samples\n",
      "Test set: 10 persons, 80 samples\n",
      "\n",
      "Checking for data leakage:\n",
      "Overlap between train and val: 0\n",
      "Overlap between train and test: 0\n",
      "Overlap between val and test: 0\n"
     ]
    }
   ],
   "source": [
    "# Cell 6.1: Split data by Person_ID_Number\n",
    "import numpy as np\n",
    "\n",
    "# Extract unique Person IDs\n",
    "person_ids = df_combined['Person_ID_Number'].unique()\n",
    "\n",
    "# Random shuffle of Person IDs\n",
    "np.random.seed(42)  # for reproducibility\n",
    "np.random.shuffle(person_ids)\n",
    "\n",
    "# Calculate split indices\n",
    "n_ids = len(person_ids)\n",
    "train_idx = int(0.7 * n_ids)\n",
    "val_idx = int(0.85 * n_ids)\n",
    "\n",
    "# Split Person IDs into train, validation, and test sets\n",
    "train_ids = person_ids[:train_idx]\n",
    "val_ids = person_ids[train_idx:val_idx]\n",
    "test_ids = person_ids[val_idx:]\n",
    "\n",
    "# Create DataFrames for each split\n",
    "df_train = df_combined[df_combined['Person_ID_Number'].isin(train_ids)]\n",
    "df_val = df_combined[df_combined['Person_ID_Number'].isin(val_ids)]\n",
    "df_test = df_combined[df_combined['Person_ID_Number'].isin(test_ids)]\n",
    "\n",
    "print(\"\\nData Split Summary:\")\n",
    "print(f\"Total number of unique persons: {n_ids}\")\n",
    "print(f\"Training set: {len(train_ids)} persons, {len(df_train)} samples\")\n",
    "print(f\"Validation set: {len(val_ids)} persons, {len(df_val)} samples\")\n",
    "print(f\"Test set: {len(test_ids)} persons, {len(df_test)} samples\")\n",
    "\n",
    "# Verify no data leakage\n",
    "train_ids_set = set(df_train['Person_ID_Number'].unique())\n",
    "val_ids_set = set(df_val['Person_ID_Number'].unique())\n",
    "test_ids_set = set(df_test['Person_ID_Number'].unique())\n",
    "\n",
    "print(\"\\nChecking for data leakage:\")\n",
    "print(\"Overlap between train and val:\", len(train_ids_set & val_ids_set))\n",
    "print(\"Overlap between train and test:\", len(train_ids_set & test_ids_set))\n",
    "print(\"Overlap between val and test:\", len(val_ids_set & test_ids_set))"
   ]
  },
  {
   "cell_type": "markdown",
   "id": "9f6880cc",
   "metadata": {},
   "source": [
    "# Feature Engineering\n",
    "- **Statistical Features:** Compute basic statistics (mean, standard deviation, min, max, range, median) for each signal channel to capture essential characteristics of the data.\n",
    "- **Derivative Features:** Calculate first and second derivatives (jerk and snap) of the signals to quantify dynamic changes and motion patterns.\n",
    "- **Sliding Window Segmentation:** Segment each signal into overlapping windows to extract localized features, improving the model's ability to detect temporal patterns.\n",
    "- **Delta Features:** Compute the change (delta) in feature values between consecutive windows for each file, capturing transitions and trends within the signal."
   ]
  },
  {
   "cell_type": "code",
   "execution_count": 45,
   "id": "7b2ff58b-965c-46ef-b3fc-68e279c60841",
   "metadata": {},
   "outputs": [],
   "source": [
    "# Cell 7: Simplified Feature extraction helpers\n",
    "def compute_basic_stats(signal):\n",
    "    \"\"\"Compute only basic statistics without entropy or zero crossings\"\"\"\n",
    "    return {\n",
    "        \"mean\": np.mean(signal),\n",
    "        \"std\": np.std(signal),\n",
    "        \"min\": np.min(signal),\n",
    "        \"max\": np.max(signal),\n",
    "        \"range\": np.max(signal) - np.min(signal),\n",
    "        \"median\": np.median(signal),\n",
    "    }\n",
    "\n",
    "def compute_derivatives(signal, order=1, sampling_rate=1000):\n",
    "    \"\"\"Compute derivatives up to snap (2nd derivative)\"\"\"\n",
    "    dt = 1 / sampling_rate\n",
    "    derivative = signal.copy()\n",
    "    for _ in range(order):\n",
    "        derivative = np.gradient(derivative, dt)\n",
    "    return derivative\n",
    "\n",
    "def compute_mass(signal):\n",
    "    \"\"\"Compute motion mass (sum of absolute values)\"\"\"\n",
    "    return np.sum(np.abs(signal))\n",
    "\n",
    "def extract_features_from_window(window_data, sampling_rate=1000):\n",
    "    \"\"\"Simplified feature extraction without entropy or zero crossings\"\"\"\n",
    "    features = {}\n",
    "    \n",
    "    for i, channel in enumerate(channel_names):\n",
    "        signal = window_data[:, i]\n",
    "        stats = compute_basic_stats(signal)\n",
    "        for stat_name, stat_val in stats.items():\n",
    "            features[f\"{channel}_{stat_name}\"] = stat_val\n",
    "\n",
    "        # First and second derivatives\n",
    "        jerk = compute_derivatives(signal, order=1, sampling_rate=sampling_rate)\n",
    "        snap = compute_derivatives(signal, order=2, sampling_rate=sampling_rate)\n",
    "\n",
    "        # Only mass features\n",
    "        features[f\"{channel}_jerk_mass\"] = compute_mass(jerk)\n",
    "        features[f\"{channel}_snap_mass\"] = compute_mass(snap)\n",
    "\n",
    "    return features"
   ]
  },
  {
   "cell_type": "code",
   "execution_count": 46,
   "id": "3e64489a-dd7b-4b10-a37e-6a4e447939f4",
   "metadata": {},
   "outputs": [
    {
     "name": "stdout",
     "output_type": "stream",
     "text": [
      "Extracting features for training set...\n"
     ]
    },
    {
     "name": "stderr",
     "output_type": "stream",
     "text": [
      "100%|██████████| 365/365 [00:11<00:00, 31.94it/s]\n"
     ]
    },
    {
     "name": "stdout",
     "output_type": "stream",
     "text": [
      "Extracting features for validation set...\n"
     ]
    },
    {
     "name": "stderr",
     "output_type": "stream",
     "text": [
      "100%|██████████| 80/80 [00:03<00:00, 23.23it/s]\n"
     ]
    },
    {
     "name": "stdout",
     "output_type": "stream",
     "text": [
      "Extracting features for test set...\n"
     ]
    },
    {
     "name": "stderr",
     "output_type": "stream",
     "text": [
      "100%|██████████| 80/80 [00:02<00:00, 39.17it/s]"
     ]
    },
    {
     "name": "stdout",
     "output_type": "stream",
     "text": [
      "\n",
      "Feature extraction complete:\n",
      "Training set shape: (11372, 48)\n",
      "Validation set shape: (3503, 48)\n",
      "Test set shape: (1994, 48)\n"
     ]
    },
    {
     "name": "stderr",
     "output_type": "stream",
     "text": [
      "\n"
     ]
    }
   ],
   "source": [
    "# Cell 8: Enhanced Sliding window feature extraction with metadata\n",
    "window_size = 1000  # 1 second\n",
    "step_size = 500     # 50% overlap\n",
    "sampling_rate = 1000\n",
    "\n",
    "def extract_features_from_df(df):\n",
    "    features = []\n",
    "    for idx, row in tqdm(df.iterrows(), total=len(df)):\n",
    "        signal = row[\"signal\"]\n",
    "        label = row[\"label\"]\n",
    "        file_name = row[\"file_name\"]\n",
    "        \n",
    "        # Get all metadata columns (excluding signal, label, and file_name)\n",
    "        metadata = {k: v for k, v in row.items() \n",
    "                   if k not in ['signal', 'label', 'file_name']}\n",
    "\n",
    "        if signal.shape[0] < window_size:\n",
    "            continue  # Skip very short signals\n",
    "\n",
    "        for start in range(0, signal.shape[0] - window_size + 1, step_size):\n",
    "            end = start + window_size\n",
    "            window_data = signal[start:end, :]\n",
    "\n",
    "            window_features = extract_features_from_window(window_data, sampling_rate)\n",
    "            window_features[\"label\"] = label\n",
    "            window_features[\"file_name\"] = file_name\n",
    "            window_features[\"start_index\"] = start\n",
    "            window_features[\"end_index\"] = end\n",
    "            \n",
    "            # Add all metadata to the window features\n",
    "            window_features.update(metadata)\n",
    "\n",
    "            features.append(window_features)\n",
    "    \n",
    "    return pd.DataFrame(features)\n",
    "\n",
    "# Extract features for each split\n",
    "print(\"Extracting features for training set...\")\n",
    "df_features_train = extract_features_from_df(df_train)\n",
    "print(\"Extracting features for validation set...\")\n",
    "df_features_val = extract_features_from_df(df_val)\n",
    "print(\"Extracting features for test set...\")\n",
    "df_features_test = extract_features_from_df(df_test)\n",
    "\n",
    "print(\"\\nFeature extraction complete:\")\n",
    "print(f\"Training set shape: {df_features_train.shape}\")\n",
    "print(f\"Validation set shape: {df_features_val.shape}\")\n",
    "print(f\"Test set shape: {df_features_test.shape}\")"
   ]
  },
  {
   "cell_type": "code",
   "execution_count": 47,
   "id": "31bc41fa",
   "metadata": {},
   "outputs": [
    {
     "name": "stdout",
     "output_type": "stream",
     "text": [
      "Adding delta features to training set...\n",
      "Adding delta features to validation set...\n",
      "Adding delta features to test set...\n",
      "\n",
      "Final shapes:\n",
      "Training set: (11372, 88)\n",
      "Validation set: (3503, 88)\n",
      "Test set: (1994, 88)\n",
      "\n",
      "Columns with missing values in df_delta_train:\n",
      "Series([], dtype: int64)\n",
      "\n",
      "Columns with missing values in df_delta_val:\n",
      "Series([], dtype: int64)\n",
      "\n",
      "Columns with missing values in df_delta_test:\n",
      "Series([], dtype: int64)\n"
     ]
    }
   ],
   "source": [
    "# Cell 9: Add delta features (Now preserves metadata columns)\n",
    "def add_delta_features(df):\n",
    "    delta_features = []\n",
    "    grouped = df.groupby(\"file_name\")\n",
    "\n",
    "    # Define known metadata columns (these are columns we know are not feature columns)\n",
    "    base_non_feature_cols = [\n",
    "    'label', 'file_name', 'start_index', 'end_index',\n",
    "    'Person_ID_Number', 'Age', 'Gender', 'Writing_Hand'\n",
    "    ]\n",
    "    \n",
    "    # Identify potential metadata columns (columns that are constant within each file)\n",
    "    potential_metadata_cols = [\n",
    "        col for col in df.columns \n",
    "        if col not in base_non_feature_cols \n",
    "        and df.groupby('file_name')[col].nunique().max() == 1\n",
    "    ]\n",
    "    \n",
    "    # Combine base non-feature columns with metadata columns\n",
    "    non_feature_cols = base_non_feature_cols + potential_metadata_cols\n",
    "\n",
    "    for file_name, group in grouped:\n",
    "        group = group.sort_values(\"start_index\").reset_index(drop=True)\n",
    "        group_delta = group.copy()\n",
    "\n",
    "        # Identify feature columns (excluding non-feature columns)\n",
    "        feature_cols = [col for col in group.columns if col not in non_feature_cols]\n",
    "        \n",
    "        # Compute deltas only for feature columns\n",
    "        for col in feature_cols:\n",
    "            group_delta[f\"delta_{col}\"] = group[col].diff()\n",
    "\n",
    "        # Fill first row deltas with 0\n",
    "        delta_cols = [f\"delta_{col}\" for col in feature_cols]\n",
    "        group_delta.loc[0, delta_cols] = 0\n",
    "\n",
    "        delta_features.append(group_delta)\n",
    "\n",
    "    return pd.concat(delta_features, ignore_index=True)\n",
    "\n",
    "# Process each split\n",
    "print(\"Adding delta features to training set...\")\n",
    "df_delta_train = add_delta_features(df_features_train)\n",
    "print(\"Adding delta features to validation set...\")\n",
    "df_delta_val = add_delta_features(df_features_val)\n",
    "print(\"Adding delta features to test set...\")\n",
    "df_delta_test = add_delta_features(df_features_test)\n",
    "\n",
    "print(\"\\nFinal shapes:\")\n",
    "print(f\"Training set: {df_delta_train.shape}\")\n",
    "print(f\"Validation set: {df_delta_val.shape}\")\n",
    "print(f\"Test set: {df_delta_test.shape}\")\n",
    "\n",
    "# Show columns with missing values and how many missing in each\n",
    "print(\"\\nColumns with missing values in df_delta_train:\")\n",
    "print(df_delta_train.isna().sum()[df_delta_train.isna().sum() > 0])\n",
    "\n",
    "print(\"\\nColumns with missing values in df_delta_val:\")\n",
    "print(df_delta_val.isna().sum()[df_delta_val.isna().sum() > 0])\n",
    "\n",
    "print(\"\\nColumns with missing values in df_delta_test:\")\n",
    "print(df_delta_test.isna().sum()[df_delta_test.isna().sum() > 0])"
   ]
  },
  {
   "cell_type": "markdown",
   "id": "f3b3ab13",
   "metadata": {},
   "source": [
    "# Model Training: Bidirectional LSTM (BiLSTM)\n",
    "- **Data Reshaping:** Adapting the 2D feature sets into the 3D format required by LSTMs (samples, timesteps, features).\n",
    "- **Model Building:** Constructing a BiLSTM model using TensorFlow/Keras with Dropout for regularization.\n",
    "- **Model Training:** Training the model using EarlyStopping to prevent overfitting and ModelCheckpoint to save the best version.\n",
    "Performance Evaluation: Assessing the final model on the test set using the same metrics as before."
   ]
  },
  {
   "cell_type": "code",
   "execution_count": 48,
   "id": "da07a92d",
   "metadata": {},
   "outputs": [],
   "source": [
    "# Cell 10: Imports for BiLSTM Modeling\n",
    "import matplotlib.pyplot as plt\n",
    "import seaborn as sns\n",
    "from tensorflow.keras.models import Sequential\n",
    "from tensorflow.keras.layers import Bidirectional, LSTM, Dense, Dropout\n",
    "from tensorflow.keras.callbacks import ModelCheckpoint, EarlyStopping\n",
    "from tensorflow.keras.optimizers import Adam\n",
    "from sklearn.preprocessing import StandardScaler\n",
    "from sklearn.metrics import accuracy_score, classification_report, confusion_matrix\n",
    "from tensorflow.keras.regularizers import l2\n",
    "from tensorflow.keras.callbacks import ReduceLROnPlateau"
   ]
  },
  {
   "cell_type": "code",
   "execution_count": 49,
   "id": "e7105eba",
   "metadata": {},
   "outputs": [
    {
     "name": "stdout",
     "output_type": "stream",
     "text": [
      "Data prepared and scaled for modeling.\n",
      "X_train_scaled shape: (11372, 80)\n",
      "X_val_scaled shape: (3503, 80)\n",
      "X_test_scaled shape: (1994, 80)\n"
     ]
    }
   ],
   "source": [
    "# Cell 11: Prepare and Scale Data for the Model\n",
    "\n",
    "# Define feature columns (all numeric columns except metadata and label)\n",
    "non_feature_cols = ['label', 'file_name', 'start_index', 'end_index', 'Person_ID_Number', 'Age', 'Gender', 'Writing_Hand']\n",
    "feature_cols = [col for col in df_delta_train.columns if col not in non_feature_cols and pd.api.types.is_numeric_dtype(df_delta_train[col])]\n",
    "\n",
    "# Separate features (X) and labels (y)\n",
    "X_train = df_delta_train[feature_cols]\n",
    "y_train = df_delta_train['label']\n",
    "\n",
    "X_val = df_delta_val[feature_cols]\n",
    "y_val = df_delta_val['label']\n",
    "\n",
    "X_test = df_delta_test[feature_cols]\n",
    "y_test = df_delta_test['label']\n",
    "\n",
    "# Scale the features\n",
    "scaler = StandardScaler()\n",
    "\n",
    "# Fit the scaler ONLY on the training data to prevent data leakage\n",
    "X_train_scaled = scaler.fit_transform(X_train)\n",
    "\n",
    "# Transform the validation and test data using the fitted scaler\n",
    "X_val_scaled = scaler.transform(X_val)\n",
    "X_test_scaled = scaler.transform(X_test)\n",
    "\n",
    "print(\"Data prepared and scaled for modeling.\")\n",
    "print(f\"X_train_scaled shape: {X_train_scaled.shape}\")\n",
    "print(f\"X_val_scaled shape: {X_val_scaled.shape}\")\n",
    "print(f\"X_test_scaled shape: {X_test_scaled.shape}\")"
   ]
  },
  {
   "cell_type": "code",
   "execution_count": 50,
   "id": "6cce7fae",
   "metadata": {},
   "outputs": [
    {
     "name": "stdout",
     "output_type": "stream",
     "text": [
      "\n",
      "Data shape after reshaping for LSTM:\n",
      "X_train_reshaped: (11372, 1, 80)\n",
      "X_val_reshaped: (3503, 1, 80)\n",
      "X_test_reshaped: (1994, 1, 80)\n"
     ]
    }
   ],
   "source": [
    "# Cell 12: Reshape Data for LSTM\n",
    "\n",
    "# LSTMs expect 3D input: (samples, timesteps, features). Here, timesteps=1.\n",
    "n_features = X_train_scaled.shape[1]\n",
    "X_train_reshaped = X_train_scaled.reshape(-1, 1, n_features)\n",
    "X_val_reshaped = X_val_scaled.reshape(-1, 1, n_features)\n",
    "X_test_reshaped = X_test_scaled.reshape(-1, 1, n_features)\n",
    "\n",
    "print(\"\\nData shape after reshaping for LSTM:\")\n",
    "print(f\"X_train_reshaped: {X_train_reshaped.shape}\")\n",
    "print(f\"X_val_reshaped: {X_val_reshaped.shape}\")\n",
    "print(f\"X_test_reshaped: {X_test_reshaped.shape}\")"
   ]
  },
  {
   "cell_type": "code",
   "execution_count": 51,
   "id": "2db5c7df",
   "metadata": {},
   "outputs": [
    {
     "name": "stderr",
     "output_type": "stream",
     "text": [
      "c:\\Users\\Tristan\\anaconda3\\Lib\\site-packages\\keras\\src\\layers\\rnn\\bidirectional.py:107: UserWarning: Do not pass an `input_shape`/`input_dim` argument to a layer. When using Sequential models, prefer using an `Input(shape)` object as the first layer in the model instead.\n",
      "  super().__init__(**kwargs)\n"
     ]
    },
    {
     "data": {
      "text/html": [
       "<pre style=\"white-space:pre;overflow-x:auto;line-height:normal;font-family:Menlo,'DejaVu Sans Mono',consolas,'Courier New',monospace\"><span style=\"font-weight: bold\">Model: \"sequential_2\"</span>\n",
       "</pre>\n"
      ],
      "text/plain": [
       "\u001b[1mModel: \"sequential_2\"\u001b[0m\n"
      ]
     },
     "metadata": {},
     "output_type": "display_data"
    },
    {
     "data": {
      "text/html": [
       "<pre style=\"white-space:pre;overflow-x:auto;line-height:normal;font-family:Menlo,'DejaVu Sans Mono',consolas,'Courier New',monospace\">┏━━━━━━━━━━━━━━━━━━━━━━━━━━━━━━━━━┳━━━━━━━━━━━━━━━━━━━━━━━━┳━━━━━━━━━━━━━━━┓\n",
       "┃<span style=\"font-weight: bold\"> Layer (type)                    </span>┃<span style=\"font-weight: bold\"> Output Shape           </span>┃<span style=\"font-weight: bold\">       Param # </span>┃\n",
       "┡━━━━━━━━━━━━━━━━━━━━━━━━━━━━━━━━━╇━━━━━━━━━━━━━━━━━━━━━━━━╇━━━━━━━━━━━━━━━┩\n",
       "│ bidirectional_2 (<span style=\"color: #0087ff; text-decoration-color: #0087ff\">Bidirectional</span>) │ (<span style=\"color: #00d7ff; text-decoration-color: #00d7ff\">None</span>, <span style=\"color: #00af00; text-decoration-color: #00af00\">256</span>)            │       <span style=\"color: #00af00; text-decoration-color: #00af00\">214,016</span> │\n",
       "├─────────────────────────────────┼────────────────────────┼───────────────┤\n",
       "│ dropout_4 (<span style=\"color: #0087ff; text-decoration-color: #0087ff\">Dropout</span>)             │ (<span style=\"color: #00d7ff; text-decoration-color: #00d7ff\">None</span>, <span style=\"color: #00af00; text-decoration-color: #00af00\">256</span>)            │             <span style=\"color: #00af00; text-decoration-color: #00af00\">0</span> │\n",
       "├─────────────────────────────────┼────────────────────────┼───────────────┤\n",
       "│ dense_4 (<span style=\"color: #0087ff; text-decoration-color: #0087ff\">Dense</span>)                 │ (<span style=\"color: #00d7ff; text-decoration-color: #00d7ff\">None</span>, <span style=\"color: #00af00; text-decoration-color: #00af00\">64</span>)             │        <span style=\"color: #00af00; text-decoration-color: #00af00\">16,448</span> │\n",
       "├─────────────────────────────────┼────────────────────────┼───────────────┤\n",
       "│ dropout_5 (<span style=\"color: #0087ff; text-decoration-color: #0087ff\">Dropout</span>)             │ (<span style=\"color: #00d7ff; text-decoration-color: #00d7ff\">None</span>, <span style=\"color: #00af00; text-decoration-color: #00af00\">64</span>)             │             <span style=\"color: #00af00; text-decoration-color: #00af00\">0</span> │\n",
       "├─────────────────────────────────┼────────────────────────┼───────────────┤\n",
       "│ dense_5 (<span style=\"color: #0087ff; text-decoration-color: #0087ff\">Dense</span>)                 │ (<span style=\"color: #00d7ff; text-decoration-color: #00d7ff\">None</span>, <span style=\"color: #00af00; text-decoration-color: #00af00\">1</span>)              │            <span style=\"color: #00af00; text-decoration-color: #00af00\">65</span> │\n",
       "└─────────────────────────────────┴────────────────────────┴───────────────┘\n",
       "</pre>\n"
      ],
      "text/plain": [
       "┏━━━━━━━━━━━━━━━━━━━━━━━━━━━━━━━━━┳━━━━━━━━━━━━━━━━━━━━━━━━┳━━━━━━━━━━━━━━━┓\n",
       "┃\u001b[1m \u001b[0m\u001b[1mLayer (type)                   \u001b[0m\u001b[1m \u001b[0m┃\u001b[1m \u001b[0m\u001b[1mOutput Shape          \u001b[0m\u001b[1m \u001b[0m┃\u001b[1m \u001b[0m\u001b[1m      Param #\u001b[0m\u001b[1m \u001b[0m┃\n",
       "┡━━━━━━━━━━━━━━━━━━━━━━━━━━━━━━━━━╇━━━━━━━━━━━━━━━━━━━━━━━━╇━━━━━━━━━━━━━━━┩\n",
       "│ bidirectional_2 (\u001b[38;5;33mBidirectional\u001b[0m) │ (\u001b[38;5;45mNone\u001b[0m, \u001b[38;5;34m256\u001b[0m)            │       \u001b[38;5;34m214,016\u001b[0m │\n",
       "├─────────────────────────────────┼────────────────────────┼───────────────┤\n",
       "│ dropout_4 (\u001b[38;5;33mDropout\u001b[0m)             │ (\u001b[38;5;45mNone\u001b[0m, \u001b[38;5;34m256\u001b[0m)            │             \u001b[38;5;34m0\u001b[0m │\n",
       "├─────────────────────────────────┼────────────────────────┼───────────────┤\n",
       "│ dense_4 (\u001b[38;5;33mDense\u001b[0m)                 │ (\u001b[38;5;45mNone\u001b[0m, \u001b[38;5;34m64\u001b[0m)             │        \u001b[38;5;34m16,448\u001b[0m │\n",
       "├─────────────────────────────────┼────────────────────────┼───────────────┤\n",
       "│ dropout_5 (\u001b[38;5;33mDropout\u001b[0m)             │ (\u001b[38;5;45mNone\u001b[0m, \u001b[38;5;34m64\u001b[0m)             │             \u001b[38;5;34m0\u001b[0m │\n",
       "├─────────────────────────────────┼────────────────────────┼───────────────┤\n",
       "│ dense_5 (\u001b[38;5;33mDense\u001b[0m)                 │ (\u001b[38;5;45mNone\u001b[0m, \u001b[38;5;34m1\u001b[0m)              │            \u001b[38;5;34m65\u001b[0m │\n",
       "└─────────────────────────────────┴────────────────────────┴───────────────┘\n"
      ]
     },
     "metadata": {},
     "output_type": "display_data"
    },
    {
     "data": {
      "text/html": [
       "<pre style=\"white-space:pre;overflow-x:auto;line-height:normal;font-family:Menlo,'DejaVu Sans Mono',consolas,'Courier New',monospace\"><span style=\"font-weight: bold\"> Total params: </span><span style=\"color: #00af00; text-decoration-color: #00af00\">230,529</span> (900.50 KB)\n",
       "</pre>\n"
      ],
      "text/plain": [
       "\u001b[1m Total params: \u001b[0m\u001b[38;5;34m230,529\u001b[0m (900.50 KB)\n"
      ]
     },
     "metadata": {},
     "output_type": "display_data"
    },
    {
     "data": {
      "text/html": [
       "<pre style=\"white-space:pre;overflow-x:auto;line-height:normal;font-family:Menlo,'DejaVu Sans Mono',consolas,'Courier New',monospace\"><span style=\"font-weight: bold\"> Trainable params: </span><span style=\"color: #00af00; text-decoration-color: #00af00\">230,529</span> (900.50 KB)\n",
       "</pre>\n"
      ],
      "text/plain": [
       "\u001b[1m Trainable params: \u001b[0m\u001b[38;5;34m230,529\u001b[0m (900.50 KB)\n"
      ]
     },
     "metadata": {},
     "output_type": "display_data"
    },
    {
     "data": {
      "text/html": [
       "<pre style=\"white-space:pre;overflow-x:auto;line-height:normal;font-family:Menlo,'DejaVu Sans Mono',consolas,'Courier New',monospace\"><span style=\"font-weight: bold\"> Non-trainable params: </span><span style=\"color: #00af00; text-decoration-color: #00af00\">0</span> (0.00 B)\n",
       "</pre>\n"
      ],
      "text/plain": [
       "\u001b[1m Non-trainable params: \u001b[0m\u001b[38;5;34m0\u001b[0m (0.00 B)\n"
      ]
     },
     "metadata": {},
     "output_type": "display_data"
    }
   ],
   "source": [
    "# Cell 13: Build the BiLSTM Model\n",
    "def build_bilstm_model(input_shape):\n",
    "    model = Sequential([\n",
    "        Bidirectional(LSTM(128, kernel_regularizer=l2(0.0001)), input_shape=input_shape),\n",
    "        Dropout(0.5),\n",
    "        Dense(64, activation='relu', kernel_regularizer=l2(0.0001)), \n",
    "        Dropout(0.5),\n",
    "        Dense(1, activation='sigmoid')\n",
    "    ])\n",
    "    model.compile(\n",
    "        loss='binary_crossentropy',\n",
    "        optimizer=Adam(learning_rate=0.0001), # Keep the stable learning rate\n",
    "        metrics=['accuracy']\n",
    "    )\n",
    "    return model\n",
    "\n",
    "input_shape = (X_train_reshaped.shape[1], X_train_reshaped.shape[2])\n",
    "bilstm_model = build_bilstm_model(input_shape)\n",
    "bilstm_model.summary()"
   ]
  },
  {
   "cell_type": "code",
   "execution_count": 52,
   "id": "3d6daee6",
   "metadata": {},
   "outputs": [
    {
     "name": "stdout",
     "output_type": "stream",
     "text": [
      "Epoch 1/100\n",
      "\u001b[1m174/178\u001b[0m \u001b[32m━━━━━━━━━━━━━━━━━━━\u001b[0m\u001b[37m━\u001b[0m \u001b[1m0s\u001b[0m 7ms/step - accuracy: 0.6345 - loss: 0.7013\n",
      "Epoch 1: val_loss improved from None to 0.63604, saving model to best_bilstm_model.keras\n",
      "\u001b[1m178/178\u001b[0m \u001b[32m━━━━━━━━━━━━━━━━━━━━\u001b[0m\u001b[37m\u001b[0m \u001b[1m6s\u001b[0m 12ms/step - accuracy: 0.6588 - loss: 0.6834 - val_accuracy: 0.6925 - val_loss: 0.6360 - learning_rate: 1.0000e-04\n",
      "Epoch 2/100\n",
      "\u001b[1m177/178\u001b[0m \u001b[32m━━━━━━━━━━━━━━━━━━━\u001b[0m\u001b[37m━\u001b[0m \u001b[1m0s\u001b[0m 7ms/step - accuracy: 0.6943 - loss: 0.6343\n",
      "Epoch 2: val_loss improved from 0.63604 to 0.58697, saving model to best_bilstm_model.keras\n",
      "\u001b[1m178/178\u001b[0m \u001b[32m━━━━━━━━━━━━━━━━━━━━\u001b[0m\u001b[37m\u001b[0m \u001b[1m2s\u001b[0m 9ms/step - accuracy: 0.7029 - loss: 0.6214 - val_accuracy: 0.7051 - val_loss: 0.5870 - learning_rate: 1.0000e-04\n",
      "Epoch 3/100\n",
      "\u001b[1m174/178\u001b[0m \u001b[32m━━━━━━━━━━━━━━━━━━━\u001b[0m\u001b[37m━\u001b[0m \u001b[1m0s\u001b[0m 7ms/step - accuracy: 0.7242 - loss: 0.5850\n",
      "Epoch 3: val_loss improved from 0.58697 to 0.55738, saving model to best_bilstm_model.keras\n",
      "\u001b[1m178/178\u001b[0m \u001b[32m━━━━━━━━━━━━━━━━━━━━\u001b[0m\u001b[37m\u001b[0m \u001b[1m2s\u001b[0m 9ms/step - accuracy: 0.7328 - loss: 0.5757 - val_accuracy: 0.7259 - val_loss: 0.5574 - learning_rate: 1.0000e-04\n",
      "Epoch 4/100\n",
      "\u001b[1m178/178\u001b[0m \u001b[32m━━━━━━━━━━━━━━━━━━━━\u001b[0m\u001b[37m\u001b[0m \u001b[1m0s\u001b[0m 7ms/step - accuracy: 0.7497 - loss: 0.5492\n",
      "Epoch 4: val_loss improved from 0.55738 to 0.53691, saving model to best_bilstm_model.keras\n",
      "\u001b[1m178/178\u001b[0m \u001b[32m━━━━━━━━━━━━━━━━━━━━\u001b[0m\u001b[37m\u001b[0m \u001b[1m2s\u001b[0m 9ms/step - accuracy: 0.7511 - loss: 0.5457 - val_accuracy: 0.7371 - val_loss: 0.5369 - learning_rate: 1.0000e-04\n",
      "Epoch 5/100\n",
      "\u001b[1m176/178\u001b[0m \u001b[32m━━━━━━━━━━━━━━━━━━━\u001b[0m\u001b[37m━\u001b[0m \u001b[1m0s\u001b[0m 6ms/step - accuracy: 0.7564 - loss: 0.5342\n",
      "Epoch 5: val_loss improved from 0.53691 to 0.52166, saving model to best_bilstm_model.keras\n",
      "\u001b[1m178/178\u001b[0m \u001b[32m━━━━━━━━━━━━━━━━━━━━\u001b[0m\u001b[37m\u001b[0m \u001b[1m1s\u001b[0m 8ms/step - accuracy: 0.7624 - loss: 0.5251 - val_accuracy: 0.7548 - val_loss: 0.5217 - learning_rate: 1.0000e-04\n",
      "Epoch 6/100\n",
      "\u001b[1m178/178\u001b[0m \u001b[32m━━━━━━━━━━━━━━━━━━━━\u001b[0m\u001b[37m\u001b[0m \u001b[1m0s\u001b[0m 7ms/step - accuracy: 0.7671 - loss: 0.5127\n",
      "Epoch 6: val_loss improved from 0.52166 to 0.50601, saving model to best_bilstm_model.keras\n",
      "\u001b[1m178/178\u001b[0m \u001b[32m━━━━━━━━━━━━━━━━━━━━\u001b[0m\u001b[37m\u001b[0m \u001b[1m2s\u001b[0m 9ms/step - accuracy: 0.7759 - loss: 0.5054 - val_accuracy: 0.7779 - val_loss: 0.5060 - learning_rate: 1.0000e-04\n",
      "Epoch 7/100\n",
      "\u001b[1m172/178\u001b[0m \u001b[32m━━━━━━━━━━━━━━━━━━━\u001b[0m\u001b[37m━\u001b[0m \u001b[1m0s\u001b[0m 7ms/step - accuracy: 0.7876 - loss: 0.4911\n",
      "Epoch 7: val_loss improved from 0.50601 to 0.49300, saving model to best_bilstm_model.keras\n",
      "\u001b[1m178/178\u001b[0m \u001b[32m━━━━━━━━━━━━━━━━━━━━\u001b[0m\u001b[37m\u001b[0m \u001b[1m1s\u001b[0m 8ms/step - accuracy: 0.7895 - loss: 0.4860 - val_accuracy: 0.7985 - val_loss: 0.4930 - learning_rate: 1.0000e-04\n",
      "Epoch 8/100\n",
      "\u001b[1m171/178\u001b[0m \u001b[32m━━━━━━━━━━━━━━━━━━━\u001b[0m\u001b[37m━\u001b[0m \u001b[1m0s\u001b[0m 6ms/step - accuracy: 0.7985 - loss: 0.4687\n",
      "Epoch 8: val_loss improved from 0.49300 to 0.48593, saving model to best_bilstm_model.keras\n",
      "\u001b[1m178/178\u001b[0m \u001b[32m━━━━━━━━━━━━━━━━━━━━\u001b[0m\u001b[37m\u001b[0m \u001b[1m3s\u001b[0m 8ms/step - accuracy: 0.8014 - loss: 0.4694 - val_accuracy: 0.8102 - val_loss: 0.4859 - learning_rate: 1.0000e-04\n",
      "Epoch 9/100\n",
      "\u001b[1m172/178\u001b[0m \u001b[32m━━━━━━━━━━━━━━━━━━━\u001b[0m\u001b[37m━\u001b[0m \u001b[1m0s\u001b[0m 6ms/step - accuracy: 0.8041 - loss: 0.4644\n",
      "Epoch 9: val_loss improved from 0.48593 to 0.46756, saving model to best_bilstm_model.keras\n",
      "\u001b[1m178/178\u001b[0m \u001b[32m━━━━━━━━━━━━━━━━━━━━\u001b[0m\u001b[37m\u001b[0m \u001b[1m1s\u001b[0m 7ms/step - accuracy: 0.8040 - loss: 0.4602 - val_accuracy: 0.8199 - val_loss: 0.4676 - learning_rate: 1.0000e-04\n",
      "Epoch 10/100\n",
      "\u001b[1m176/178\u001b[0m \u001b[32m━━━━━━━━━━━━━━━━━━━\u001b[0m\u001b[37m━\u001b[0m \u001b[1m0s\u001b[0m 6ms/step - accuracy: 0.8129 - loss: 0.4424\n",
      "Epoch 10: val_loss improved from 0.46756 to 0.46244, saving model to best_bilstm_model.keras\n",
      "\u001b[1m178/178\u001b[0m \u001b[32m━━━━━━━━━━━━━━━━━━━━\u001b[0m\u001b[37m\u001b[0m \u001b[1m1s\u001b[0m 7ms/step - accuracy: 0.8114 - loss: 0.4473 - val_accuracy: 0.8239 - val_loss: 0.4624 - learning_rate: 1.0000e-04\n",
      "Epoch 11/100\n",
      "\u001b[1m175/178\u001b[0m \u001b[32m━━━━━━━━━━━━━━━━━━━\u001b[0m\u001b[37m━\u001b[0m \u001b[1m0s\u001b[0m 7ms/step - accuracy: 0.8184 - loss: 0.4371\n",
      "Epoch 11: val_loss improved from 0.46244 to 0.45968, saving model to best_bilstm_model.keras\n",
      "\u001b[1m178/178\u001b[0m \u001b[32m━━━━━━━━━━━━━━━━━━━━\u001b[0m\u001b[37m\u001b[0m \u001b[1m2s\u001b[0m 8ms/step - accuracy: 0.8170 - loss: 0.4394 - val_accuracy: 0.8261 - val_loss: 0.4597 - learning_rate: 1.0000e-04\n",
      "Epoch 12/100\n",
      "\u001b[1m172/178\u001b[0m \u001b[32m━━━━━━━━━━━━━━━━━━━\u001b[0m\u001b[37m━\u001b[0m \u001b[1m0s\u001b[0m 7ms/step - accuracy: 0.8178 - loss: 0.4324\n",
      "Epoch 12: val_loss improved from 0.45968 to 0.44014, saving model to best_bilstm_model.keras\n",
      "\u001b[1m178/178\u001b[0m \u001b[32m━━━━━━━━━━━━━━━━━━━━\u001b[0m\u001b[37m\u001b[0m \u001b[1m2s\u001b[0m 8ms/step - accuracy: 0.8236 - loss: 0.4233 - val_accuracy: 0.8327 - val_loss: 0.4401 - learning_rate: 1.0000e-04\n",
      "Epoch 13/100\n",
      "\u001b[1m176/178\u001b[0m \u001b[32m━━━━━━━━━━━━━━━━━━━\u001b[0m\u001b[37m━\u001b[0m \u001b[1m0s\u001b[0m 6ms/step - accuracy: 0.8244 - loss: 0.4220\n",
      "Epoch 13: val_loss did not improve from 0.44014\n",
      "\u001b[1m178/178\u001b[0m \u001b[32m━━━━━━━━━━━━━━━━━━━━\u001b[0m\u001b[37m\u001b[0m \u001b[1m1s\u001b[0m 8ms/step - accuracy: 0.8273 - loss: 0.4166 - val_accuracy: 0.8330 - val_loss: 0.4413 - learning_rate: 1.0000e-04\n",
      "Epoch 14/100\n",
      "\u001b[1m176/178\u001b[0m \u001b[32m━━━━━━━━━━━━━━━━━━━\u001b[0m\u001b[37m━\u001b[0m \u001b[1m0s\u001b[0m 7ms/step - accuracy: 0.8246 - loss: 0.4176\n",
      "Epoch 14: val_loss did not improve from 0.44014\n",
      "\u001b[1m178/178\u001b[0m \u001b[32m━━━━━━━━━━━━━━━━━━━━\u001b[0m\u001b[37m\u001b[0m \u001b[1m1s\u001b[0m 8ms/step - accuracy: 0.8325 - loss: 0.4077 - val_accuracy: 0.8284 - val_loss: 0.4493 - learning_rate: 1.0000e-04\n",
      "Epoch 15/100\n",
      "\u001b[1m175/178\u001b[0m \u001b[32m━━━━━━━━━━━━━━━━━━━\u001b[0m\u001b[37m━\u001b[0m \u001b[1m0s\u001b[0m 6ms/step - accuracy: 0.8251 - loss: 0.4142\n",
      "Epoch 15: val_loss improved from 0.44014 to 0.43860, saving model to best_bilstm_model.keras\n",
      "\u001b[1m178/178\u001b[0m \u001b[32m━━━━━━━━━━━━━━━━━━━━\u001b[0m\u001b[37m\u001b[0m \u001b[1m1s\u001b[0m 8ms/step - accuracy: 0.8308 - loss: 0.4043 - val_accuracy: 0.8321 - val_loss: 0.4386 - learning_rate: 1.0000e-04\n",
      "Epoch 16/100\n",
      "\u001b[1m172/178\u001b[0m \u001b[32m━━━━━━━━━━━━━━━━━━━\u001b[0m\u001b[37m━\u001b[0m \u001b[1m0s\u001b[0m 7ms/step - accuracy: 0.8355 - loss: 0.3933\n",
      "Epoch 16: val_loss improved from 0.43860 to 0.43032, saving model to best_bilstm_model.keras\n",
      "\u001b[1m178/178\u001b[0m \u001b[32m━━━━━━━━━━━━━━━━━━━━\u001b[0m\u001b[37m\u001b[0m \u001b[1m2s\u001b[0m 9ms/step - accuracy: 0.8353 - loss: 0.3961 - val_accuracy: 0.8353 - val_loss: 0.4303 - learning_rate: 1.0000e-04\n",
      "Epoch 17/100\n",
      "\u001b[1m175/178\u001b[0m \u001b[32m━━━━━━━━━━━━━━━━━━━\u001b[0m\u001b[37m━\u001b[0m \u001b[1m0s\u001b[0m 6ms/step - accuracy: 0.8421 - loss: 0.3893\n",
      "Epoch 17: val_loss did not improve from 0.43032\n",
      "\u001b[1m178/178\u001b[0m \u001b[32m━━━━━━━━━━━━━━━━━━━━\u001b[0m\u001b[37m\u001b[0m \u001b[1m1s\u001b[0m 8ms/step - accuracy: 0.8414 - loss: 0.3860 - val_accuracy: 0.8321 - val_loss: 0.4336 - learning_rate: 1.0000e-04\n",
      "Epoch 18/100\n",
      "\u001b[1m171/178\u001b[0m \u001b[32m━━━━━━━━━━━━━━━━━━━\u001b[0m\u001b[37m━\u001b[0m \u001b[1m0s\u001b[0m 6ms/step - accuracy: 0.8446 - loss: 0.3794\n",
      "Epoch 18: val_loss did not improve from 0.43032\n",
      "\u001b[1m178/178\u001b[0m \u001b[32m━━━━━━━━━━━━━━━━━━━━\u001b[0m\u001b[37m\u001b[0m \u001b[1m1s\u001b[0m 7ms/step - accuracy: 0.8477 - loss: 0.3767 - val_accuracy: 0.8316 - val_loss: 0.4324 - learning_rate: 1.0000e-04\n",
      "Epoch 19/100\n",
      "\u001b[1m173/178\u001b[0m \u001b[32m━━━━━━━━━━━━━━━━━━━\u001b[0m\u001b[37m━\u001b[0m \u001b[1m0s\u001b[0m 7ms/step - accuracy: 0.8386 - loss: 0.3829\n",
      "Epoch 19: val_loss did not improve from 0.43032\n",
      "\u001b[1m178/178\u001b[0m \u001b[32m━━━━━━━━━━━━━━━━━━━━\u001b[0m\u001b[37m\u001b[0m \u001b[1m2s\u001b[0m 9ms/step - accuracy: 0.8437 - loss: 0.3781 - val_accuracy: 0.8287 - val_loss: 0.4338 - learning_rate: 1.0000e-04\n",
      "Epoch 20/100\n",
      "\u001b[1m177/178\u001b[0m \u001b[32m━━━━━━━━━━━━━━━━━━━\u001b[0m\u001b[37m━\u001b[0m \u001b[1m0s\u001b[0m 7ms/step - accuracy: 0.8466 - loss: 0.3770\n",
      "Epoch 20: val_loss did not improve from 0.43032\n",
      "\u001b[1m178/178\u001b[0m \u001b[32m━━━━━━━━━━━━━━━━━━━━\u001b[0m\u001b[37m\u001b[0m \u001b[1m1s\u001b[0m 8ms/step - accuracy: 0.8502 - loss: 0.3698 - val_accuracy: 0.8321 - val_loss: 0.4307 - learning_rate: 1.0000e-04\n",
      "Epoch 21/100\n",
      "\u001b[1m168/178\u001b[0m \u001b[32m━━━━━━━━━━━━━━━━━━\u001b[0m\u001b[37m━━\u001b[0m \u001b[1m0s\u001b[0m 7ms/step - accuracy: 0.8544 - loss: 0.3596\n",
      "Epoch 21: val_loss did not improve from 0.43032\n",
      "\n",
      "Epoch 21: ReduceLROnPlateau reducing learning rate to 1.9999999494757503e-05.\n",
      "\u001b[1m178/178\u001b[0m \u001b[32m━━━━━━━━━━━━━━━━━━━━\u001b[0m\u001b[37m\u001b[0m \u001b[1m1s\u001b[0m 8ms/step - accuracy: 0.8525 - loss: 0.3639 - val_accuracy: 0.8316 - val_loss: 0.4314 - learning_rate: 1.0000e-04\n",
      "Epoch 22/100\n",
      "\u001b[1m171/178\u001b[0m \u001b[32m━━━━━━━━━━━━━━━━━━━\u001b[0m\u001b[37m━\u001b[0m \u001b[1m0s\u001b[0m 6ms/step - accuracy: 0.8520 - loss: 0.3692\n",
      "Epoch 22: val_loss improved from 0.43032 to 0.42793, saving model to best_bilstm_model.keras\n",
      "\u001b[1m178/178\u001b[0m \u001b[32m━━━━━━━━━━━━━━━━━━━━\u001b[0m\u001b[37m\u001b[0m \u001b[1m1s\u001b[0m 7ms/step - accuracy: 0.8527 - loss: 0.3653 - val_accuracy: 0.8324 - val_loss: 0.4279 - learning_rate: 2.0000e-05\n",
      "Epoch 23/100\n",
      "\u001b[1m168/178\u001b[0m \u001b[32m━━━━━━━━━━━━━━━━━━\u001b[0m\u001b[37m━━\u001b[0m \u001b[1m0s\u001b[0m 6ms/step - accuracy: 0.8547 - loss: 0.3622\n",
      "Epoch 23: val_loss did not improve from 0.42793\n",
      "\u001b[1m178/178\u001b[0m \u001b[32m━━━━━━━━━━━━━━━━━━━━\u001b[0m\u001b[37m\u001b[0m \u001b[1m1s\u001b[0m 7ms/step - accuracy: 0.8551 - loss: 0.3614 - val_accuracy: 0.8319 - val_loss: 0.4280 - learning_rate: 2.0000e-05\n",
      "Epoch 24/100\n",
      "\u001b[1m177/178\u001b[0m \u001b[32m━━━━━━━━━━━━━━━━━━━\u001b[0m\u001b[37m━\u001b[0m \u001b[1m0s\u001b[0m 6ms/step - accuracy: 0.8552 - loss: 0.3686\n",
      "Epoch 24: val_loss did not improve from 0.42793\n",
      "\u001b[1m178/178\u001b[0m \u001b[32m━━━━━━━━━━━━━━━━━━━━\u001b[0m\u001b[37m\u001b[0m \u001b[1m1s\u001b[0m 7ms/step - accuracy: 0.8557 - loss: 0.3645 - val_accuracy: 0.8299 - val_loss: 0.4294 - learning_rate: 2.0000e-05\n",
      "Epoch 25/100\n",
      "\u001b[1m173/178\u001b[0m \u001b[32m━━━━━━━━━━━━━━━━━━━\u001b[0m\u001b[37m━\u001b[0m \u001b[1m0s\u001b[0m 6ms/step - accuracy: 0.8604 - loss: 0.3571\n",
      "Epoch 25: val_loss did not improve from 0.42793\n",
      "\u001b[1m178/178\u001b[0m \u001b[32m━━━━━━━━━━━━━━━━━━━━\u001b[0m\u001b[37m\u001b[0m \u001b[1m1s\u001b[0m 7ms/step - accuracy: 0.8567 - loss: 0.3583 - val_accuracy: 0.8299 - val_loss: 0.4309 - learning_rate: 2.0000e-05\n",
      "Epoch 26/100\n",
      "\u001b[1m175/178\u001b[0m \u001b[32m━━━━━━━━━━━━━━━━━━━\u001b[0m\u001b[37m━\u001b[0m \u001b[1m0s\u001b[0m 6ms/step - accuracy: 0.8605 - loss: 0.3514\n",
      "Epoch 26: val_loss did not improve from 0.42793\n",
      "\u001b[1m178/178\u001b[0m \u001b[32m━━━━━━━━━━━━━━━━━━━━\u001b[0m\u001b[37m\u001b[0m \u001b[1m1s\u001b[0m 7ms/step - accuracy: 0.8558 - loss: 0.3569 - val_accuracy: 0.8281 - val_loss: 0.4345 - learning_rate: 2.0000e-05\n",
      "Epoch 27/100\n",
      "\u001b[1m176/178\u001b[0m \u001b[32m━━━━━━━━━━━━━━━━━━━\u001b[0m\u001b[37m━\u001b[0m \u001b[1m0s\u001b[0m 6ms/step - accuracy: 0.8479 - loss: 0.3644\n",
      "Epoch 27: val_loss did not improve from 0.42793\n",
      "\n",
      "Epoch 27: ReduceLROnPlateau reducing learning rate to 1e-05.\n",
      "\u001b[1m178/178\u001b[0m \u001b[32m━━━━━━━━━━━━━━━━━━━━\u001b[0m\u001b[37m\u001b[0m \u001b[1m1s\u001b[0m 7ms/step - accuracy: 0.8551 - loss: 0.3543 - val_accuracy: 0.8287 - val_loss: 0.4334 - learning_rate: 2.0000e-05\n",
      "Epoch 28/100\n",
      "\u001b[1m178/178\u001b[0m \u001b[32m━━━━━━━━━━━━━━━━━━━━\u001b[0m\u001b[37m\u001b[0m \u001b[1m0s\u001b[0m 6ms/step - accuracy: 0.8562 - loss: 0.3561\n",
      "Epoch 28: val_loss did not improve from 0.42793\n",
      "\u001b[1m178/178\u001b[0m \u001b[32m━━━━━━━━━━━━━━━━━━━━\u001b[0m\u001b[37m\u001b[0m \u001b[1m1s\u001b[0m 7ms/step - accuracy: 0.8553 - loss: 0.3558 - val_accuracy: 0.8310 - val_loss: 0.4304 - learning_rate: 1.0000e-05\n",
      "Epoch 29/100\n",
      "\u001b[1m168/178\u001b[0m \u001b[32m━━━━━━━━━━━━━━━━━━\u001b[0m\u001b[37m━━\u001b[0m \u001b[1m0s\u001b[0m 6ms/step - accuracy: 0.8606 - loss: 0.3519\n",
      "Epoch 29: val_loss did not improve from 0.42793\n",
      "\u001b[1m178/178\u001b[0m \u001b[32m━━━━━━━━━━━━━━━━━━━━\u001b[0m\u001b[37m\u001b[0m \u001b[1m1s\u001b[0m 7ms/step - accuracy: 0.8591 - loss: 0.3523 - val_accuracy: 0.8307 - val_loss: 0.4299 - learning_rate: 1.0000e-05\n",
      "Epoch 30/100\n",
      "\u001b[1m167/178\u001b[0m \u001b[32m━━━━━━━━━━━━━━━━━━\u001b[0m\u001b[37m━━\u001b[0m \u001b[1m0s\u001b[0m 6ms/step - accuracy: 0.8513 - loss: 0.3617\n",
      "Epoch 30: val_loss did not improve from 0.42793\n",
      "\u001b[1m178/178\u001b[0m \u001b[32m━━━━━━━━━━━━━━━━━━━━\u001b[0m\u001b[37m\u001b[0m \u001b[1m1s\u001b[0m 7ms/step - accuracy: 0.8555 - loss: 0.3571 - val_accuracy: 0.8299 - val_loss: 0.4301 - learning_rate: 1.0000e-05\n",
      "Epoch 31/100\n",
      "\u001b[1m167/178\u001b[0m \u001b[32m━━━━━━━━━━━━━━━━━━\u001b[0m\u001b[37m━━\u001b[0m \u001b[1m0s\u001b[0m 6ms/step - accuracy: 0.8581 - loss: 0.3541\n",
      "Epoch 31: val_loss did not improve from 0.42793\n",
      "\u001b[1m178/178\u001b[0m \u001b[32m━━━━━━━━━━━━━━━━━━━━\u001b[0m\u001b[37m\u001b[0m \u001b[1m1s\u001b[0m 7ms/step - accuracy: 0.8591 - loss: 0.3526 - val_accuracy: 0.8293 - val_loss: 0.4290 - learning_rate: 1.0000e-05\n",
      "Epoch 32/100\n",
      "\u001b[1m173/178\u001b[0m \u001b[32m━━━━━━━━━━━━━━━━━━━\u001b[0m\u001b[37m━\u001b[0m \u001b[1m0s\u001b[0m 6ms/step - accuracy: 0.8505 - loss: 0.3604\n",
      "Epoch 32: val_loss did not improve from 0.42793\n",
      "\u001b[1m178/178\u001b[0m \u001b[32m━━━━━━━━━━━━━━━━━━━━\u001b[0m\u001b[37m\u001b[0m \u001b[1m1s\u001b[0m 7ms/step - accuracy: 0.8550 - loss: 0.3562 - val_accuracy: 0.8307 - val_loss: 0.4295 - learning_rate: 1.0000e-05\n",
      "Epoch 32: early stopping\n",
      "Restoring model weights from the end of the best epoch: 22.\n"
     ]
    }
   ],
   "source": [
    "# Cell 14: Train the BiLSTM Model\n",
    "checkpoint = ModelCheckpoint(\n",
    "    'best_bilstm_model.keras',\n",
    "    monitor='val_loss',\n",
    "    save_best_only=True,\n",
    "    mode='min',\n",
    "    verbose=1\n",
    ")\n",
    "\n",
    "early_stopping = EarlyStopping(\n",
    "    monitor='val_loss',\n",
    "    patience=10,\n",
    "    mode='min',\n",
    "    verbose=1,\n",
    "    restore_best_weights=True\n",
    ")\n",
    "\n",
    "reduce_lr = ReduceLROnPlateau(\n",
    "    monitor='val_loss', \n",
    "    factor=0.2,      # Reduce learning rate by a factor of 5\n",
    "    patience=5,      # Reduce after 5 epochs with no improvement\n",
    "    min_lr=0.00001,  # Don't go below this learning rate\n",
    "    verbose=1\n",
    ")\n",
    "\n",
    "history = bilstm_model.fit(\n",
    "    X_train_reshaped,\n",
    "    y_train,\n",
    "    epochs=100,\n",
    "    batch_size=64,\n",
    "    validation_data=(X_val_reshaped, y_val),\n",
    "    callbacks=[checkpoint, early_stopping, reduce_lr]\n",
    ")"
   ]
  },
  {
   "cell_type": "code",
   "execution_count": 53,
   "id": "31cf54ad",
   "metadata": {},
   "outputs": [
    {
     "data": {
      "image/png": "[encoded data removed]",
      "text/plain": [
       "<Figure size 1500x500 with 2 Axes>"
      ]
     },
     "metadata": {},
     "output_type": "display_data"
    }
   ],
   "source": [
    "# Cell 15: Plot Training History\n",
    "fig, (ax1, ax2) = plt.subplots(1, 2, figsize=(15, 5))\n",
    "ax1.plot(history.history['accuracy'], label='Train Accuracy')\n",
    "ax1.plot(history.history['val_accuracy'], label='Validation Accuracy')\n",
    "ax1.set_title('Model Accuracy')\n",
    "ax1.set_ylabel('Accuracy')\n",
    "ax1.set_xlabel('Epoch')\n",
    "ax1.legend(loc='upper left')\n",
    "\n",
    "ax2.plot(history.history['loss'], label='Train Loss')\n",
    "ax2.plot(history.history['val_loss'], label='Validation Loss')\n",
    "ax2.set_title('Model Loss')\n",
    "ax2.set_ylabel('Loss')\n",
    "ax2.set_xlabel('Epoch')\n",
    "ax2.legend(loc='upper left')\n",
    "plt.show()"
   ]
  },
  {
   "cell_type": "code",
   "execution_count": 54,
   "id": "9bf63d8b",
   "metadata": {},
   "outputs": [
    {
     "name": "stdout",
     "output_type": "stream",
     "text": [
      "\u001b[1m63/63\u001b[0m \u001b[32m━━━━━━━━━━━━━━━━━━━━\u001b[0m\u001b[37m\u001b[0m \u001b[1m1s\u001b[0m 6ms/step\n",
      "\n",
      "BiLSTM Test Set Accuracy: 0.7909\n",
      "\n",
      "BiLSTM Classification Report:\n",
      "              precision    recall  f1-score   support\n",
      "\n",
      "     Healthy       0.88      0.70      0.78      1053\n",
      "     Patient       0.73      0.89      0.80       941\n",
      "\n",
      "    accuracy                           0.79      1994\n",
      "   macro avg       0.80      0.80      0.79      1994\n",
      "weighted avg       0.81      0.79      0.79      1994\n",
      "\n",
      "BiLSTM Confusion Matrix:\n"
     ]
    },
    {
     "data": {
      "image/png": "[encoded data removed]",
      "text/plain": [
       "<Figure size 800x600 with 2 Axes>"
      ]
     },
     "metadata": {},
     "output_type": "display_data"
    }
   ],
   "source": [
    "# Cell 16: Evaluate the BiLSTM Model on the Test Set\n",
    "y_pred_probs = bilstm_model.predict(X_test_reshaped)\n",
    "y_pred_classes = (y_pred_probs > 0.5).astype(int).flatten()\n",
    "\n",
    "bilstm_accuracy = accuracy_score(y_test, y_pred_classes)\n",
    "print(f\"\\nBiLSTM Test Set Accuracy: {bilstm_accuracy:.4f}\\n\")\n",
    "\n",
    "print(\"BiLSTM Classification Report:\")\n",
    "print(classification_report(y_test, y_pred_classes, target_names=['Healthy', 'Patient']))\n",
    "\n",
    "print(\"BiLSTM Confusion Matrix:\")\n",
    "cm_bilstm = confusion_matrix(y_test, y_pred_classes)\n",
    "plt.figure(figsize=(8, 6))\n",
    "sns.heatmap(cm_bilstm, annot=True, fmt='d', cmap='Blues',\n",
    "            xticklabels=['Healthy', 'Patient'], yticklabels=['Healthy', 'Patient'])\n",
    "plt.xlabel('Predicted Label')\n",
    "plt.ylabel('True Label')\n",
    "plt.title('BiLSTM Confusion Matrix on Test Set')\n",
    "plt.show()"
   ]
  }
 ],
 "metadata": {
  "kernelspec": {
   "display_name": "base",
   "language": "python",
   "name": "python3"
  },
  "language_info": {
   "codemirror_mode": {
    "name": "ipython",
    "version": 3
   },
   "file_extension": ".py",
   "mimetype": "text/x-python",
   "name": "python",
   "nbconvert_exporter": "python",
   "pygments_lexer": "ipython3",
   "version": "3.12.7"
  }
 },
 "nbformat": 4,
 "nbformat_minor": 5
}
